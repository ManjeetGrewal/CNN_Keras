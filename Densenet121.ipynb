{
  "nbformat": 4,
  "nbformat_minor": 0,
  "metadata": {
    "colab": {
      "name": "Densenet121.ipynb",
      "version": "0.3.2",
      "provenance": [],
      "collapsed_sections": []
    },
    "kernelspec": {
      "name": "python3",
      "display_name": "Python 3"
    },
    "accelerator": "GPU"
  },
  "cells": [
    {
      "metadata": {
        "id": "RbyvtiVP1Y6-",
        "colab_type": "code",
        "outputId": "d0e6309d-f5d2-40d6-952a-6f2e1f0c5cc2",
        "colab": {
          "base_uri": "https://localhost:8080/",
          "height": 52
        }
      },
      "cell_type": "code",
      "source": [
        "# Installing required version of pytorch. For Udacity final classification project I am downloading 0.4.1\n",
        "\n",
        "from os.path import exists\n",
        "from wheel.pep425tags import get_abbr_impl, get_impl_ver, get_abi_tag\n",
        "platform = '{}{}-{}'.format(get_abbr_impl(), get_impl_ver(), get_abi_tag())\n",
        "cuda_output = !ldconfig -p|grep cudart.so|sed -e 's/.*\\.\\([0-9]*\\)\\.\\([0-9]*\\)$/cu\\1\\2/'\n",
        "accelerator = cuda_output[0] if exists('/dev/nvidia0') else 'cpu'\n",
        "\n",
        "!pip install -q http://download.pytorch.org/whl/{accelerator}/torch-0.4.1-{platform}-linux_x86_64.whl torchvision\n",
        "  \n",
        "import torch\n",
        "import torchvision\n",
        "print(torch.__version__)\n",
        "print(torchvision.__version__)"
      ],
      "execution_count": 3,
      "outputs": [
        {
          "output_type": "stream",
          "text": [
            "0.4.1\n",
            "0.2.1\n"
          ],
          "name": "stdout"
        }
      ]
    },
    {
      "metadata": {
        "id": "Dexi2ybH2obE",
        "colab_type": "code",
        "colab": {}
      },
      "cell_type": "code",
      "source": [
        "# Imports here\n",
        "\n",
        "%matplotlib inline\n",
        "%config InlineBackend.figure_format = 'retina'\n",
        "\n",
        "import matplotlib.pyplot as plt\n",
        "import matplotlib.image as mpimg\n",
        "import numpy as np\n",
        "import time\n",
        "import torch\n",
        "import PIL\n",
        "from PIL import Image\n",
        "import matplotlib.gridspec as gridspec\n",
        "from torch import nn\n",
        "from torch import optim\n",
        "import torch.nn.functional as F\n",
        "from torch.autograd import Variable\n",
        "from torchvision import datasets, transforms, models\n",
        "from collections import OrderedDict\n",
        "import json\n",
        "import copy"
      ],
      "execution_count": 0,
      "outputs": []
    },
    {
      "metadata": {
        "id": "VLyrVEza2wYn",
        "colab_type": "code",
        "outputId": "9b01552e-087a-4b13-9d17-80ca76bb2c42",
        "colab": {
          "base_uri": "https://localhost:8080/",
          "height": 35
        }
      },
      "cell_type": "code",
      "source": [
        "### Install Pillow \n",
        "!pip install -q pillow==4.1.1\n",
        "print(PIL.PILLOW_VERSION)"
      ],
      "execution_count": 5,
      "outputs": [
        {
          "output_type": "stream",
          "text": [
            "4.1.1\n"
          ],
          "name": "stdout"
        }
      ]
    },
    {
      "metadata": {
        "id": "lBPKPTmo2xdM",
        "colab_type": "code",
        "outputId": "2e62015d-7a44-4c69-db0b-8f73e048e02a",
        "colab": {
          "base_uri": "https://localhost:8080/",
          "height": 35
        }
      },
      "cell_type": "code",
      "source": [
        "# Mount the google drive so that we can save our trained model\n",
        "\n",
        "from google.colab import drive\n",
        "drive.mount('/content/gdrive', force_remount=True)"
      ],
      "execution_count": 6,
      "outputs": [
        {
          "output_type": "stream",
          "text": [
            "Mounted at /content/gdrive\n"
          ],
          "name": "stdout"
        }
      ]
    },
    {
      "metadata": {
        "id": "1mEI9CgX20vE",
        "colab_type": "code",
        "colab": {}
      },
      "cell_type": "code",
      "source": [
        "# Downloading the required data files\n",
        "\n",
        "!wget -cq https://github.com/udacity/pytorch_challenge/raw/master/cat_to_name.json\n",
        "!wget -cq https://s3.amazonaws.com/content.udacity-data.com/courses/nd188/flower_data.zip\n",
        "!rm -r flower_data || true\n",
        "!unzip -qq flower_data.zip"
      ],
      "execution_count": 0,
      "outputs": []
    },
    {
      "metadata": {
        "id": "9FMXMR9a24kX",
        "colab_type": "code",
        "colab": {}
      },
      "cell_type": "code",
      "source": [
        "data_dir = 'flower_data'\n",
        "train_dir = data_dir + '/train'\n",
        "valid_dir = data_dir + '/valid'\n",
        "test_dir = F\"/content/gdrive/My Drive/Manjeet PhD/flower_data_original_test\""
      ],
      "execution_count": 0,
      "outputs": []
    },
    {
      "metadata": {
        "id": "e6bD0-S528qa",
        "colab_type": "code",
        "colab": {}
      },
      "cell_type": "code",
      "source": [
        "torch.manual_seed(7)\n",
        "\n",
        "use_gpu = torch.cuda.is_available()"
      ],
      "execution_count": 0,
      "outputs": []
    },
    {
      "metadata": {
        "id": "cEeWY_iU2_7g",
        "colab_type": "code",
        "colab": {}
      },
      "cell_type": "code",
      "source": [
        "# Define your transforms for the training, validation, and testing sets\n",
        "train_transforms = transforms.Compose([transforms.RandomRotation(30),\n",
        "                                       transforms.RandomResizedCrop(224),\n",
        "                                       transforms.RandomHorizontalFlip(),\n",
        "                                       transforms.ToTensor(),\n",
        "                                       transforms.Normalize([0.485, 0.456, 0.406], \n",
        "                                                            [0.229, 0.224, 0.225])])\n",
        "\n",
        "valid_transforms = transforms.Compose([transforms.Resize(256),\n",
        "                                      transforms.CenterCrop(224),\n",
        "                                      transforms.ToTensor(),\n",
        "                                      transforms.Normalize([0.485, 0.456, 0.406], \n",
        "                                                           [0.229, 0.224, 0.225])])\n",
        "\n",
        "test_transforms = transforms.Compose([transforms.Resize(256),\n",
        "                                      transforms.CenterCrop(224),\n",
        "                                      transforms.ToTensor(),\n",
        "                                      transforms.Normalize([0.485, 0.456, 0.406], \n",
        "                                                           [0.229, 0.224, 0.225])])"
      ],
      "execution_count": 0,
      "outputs": []
    },
    {
      "metadata": {
        "id": "DeNKlN8b3xZe",
        "colab_type": "code",
        "colab": {}
      },
      "cell_type": "code",
      "source": [
        "# Load the datasets with ImageFolder\n",
        "\n",
        "image_datasets = dict()\n",
        "image_datasets['train'] = datasets.ImageFolder(train_dir, transform=train_transforms)\n",
        "image_datasets['valid'] = datasets.ImageFolder(valid_dir, transform=valid_transforms)\n",
        "image_datasets['test'] = datasets.ImageFolder(test_dir, transform=test_transforms)\n"
      ],
      "execution_count": 0,
      "outputs": []
    },
    {
      "metadata": {
        "id": "76g89shK3Gc-",
        "colab_type": "code",
        "colab": {
          "base_uri": "https://localhost:8080/",
          "height": 445
        },
        "outputId": "2e3633a0-7a8b-438c-b78e-65aaff003f49"
      },
      "cell_type": "code",
      "source": [
        "# Using the image datasets and the transforms, define the dataloaders\n",
        "batch_size = 64\n",
        "dataloaders = dict()\n",
        "dataloaders['train'] = torch.utils.data.DataLoader(image_datasets['train'], batch_size=batch_size, shuffle=True)\n",
        "dataloaders['valid'] = torch.utils.data.DataLoader(image_datasets['valid'], batch_size=batch_size, shuffle=True)\n",
        "dataloaders['test']  = torch.utils.data.DataLoader(image_datasets['test'], batch_size=batch_size, shuffle=False)\n",
        "\n",
        "#Know your data\n",
        "dataset_sizes = {x: len(image_datasets[x]) for x in ['train', 'valid', 'test']}\n",
        "class_names = image_datasets['train'].classes\n",
        "\n",
        "print (\"Dasaset Size: \"+ str(dataset_sizes) + \"\\n\")\n",
        "n_class = len(class_names)\n",
        "print (\"Number of classes: \"+ str(n_class) + \"\\n\")\n",
        "print (\"Classes: \"+ str(class_names) + \"\\n\")\n",
        "\n",
        "print (len(dataloaders))\n",
        "\n",
        "class_to_idx = image_datasets['train'].class_to_idx\n",
        "\n",
        "images, labels = next(iter(dataloaders[\"train\"]))\n",
        "print(len(images[0,2]))\n",
        "plt.imshow(images[0,0])"
      ],
      "execution_count": 12,
      "outputs": [
        {
          "output_type": "stream",
          "text": [
            "Dasaset Size: {'train': 6552, 'valid': 818, 'test': 819}\n",
            "\n",
            "Number of classes: 102\n",
            "\n",
            "Classes: ['1', '10', '100', '101', '102', '11', '12', '13', '14', '15', '16', '17', '18', '19', '2', '20', '21', '22', '23', '24', '25', '26', '27', '28', '29', '3', '30', '31', '32', '33', '34', '35', '36', '37', '38', '39', '4', '40', '41', '42', '43', '44', '45', '46', '47', '48', '49', '5', '50', '51', '52', '53', '54', '55', '56', '57', '58', '59', '6', '60', '61', '62', '63', '64', '65', '66', '67', '68', '69', '7', '70', '71', '72', '73', '74', '75', '76', '77', '78', '79', '8', '80', '81', '82', '83', '84', '85', '86', '87', '88', '89', '9', '90', '91', '92', '93', '94', '95', '96', '97', '98', '99']\n",
            "\n",
            "3\n",
            "224\n"
          ],
          "name": "stdout"
        },
        {
          "output_type": "execute_result",
          "data": {
            "text/plain": [
              "<matplotlib.image.AxesImage at 0x7fd464c22438>"
            ]
          },
          "metadata": {
            "tags": []
          },
          "execution_count": 12
        },
        {
          "output_type": "display_data",
          "data": {
            "image/png": "[encoded data removed]",
            "text/plain": [
              "<matplotlib.figure.Figure at 0x7fd4bba23358>"
            ]
          },
          "metadata": {
            "tags": [],
            "image/png": {
              "width": 255,
              "height": 251
            }
          }
        }
      ]
    },
    {
      "metadata": {
        "id": "i9k07HKz38Vv",
        "colab_type": "code",
        "colab": {}
      },
      "cell_type": "code",
      "source": [
        "with open('cat_to_name.json', 'r') as f:\n",
        "    cat_to_name = json.load(f)"
      ],
      "execution_count": 0,
      "outputs": []
    },
    {
      "metadata": {
        "id": "7QPYNdHx4JuH",
        "colab_type": "code",
        "colab": {}
      },
      "cell_type": "code",
      "source": [
        "def get_densenet_model(hidden_units):\n",
        "    model = models.densenet121(pretrained=True)\n",
        "\n",
        "   # Freeze parameters so we don't backprop through them\n",
        "    for param in model.parameters():\n",
        "        param.requires_grad = False\n",
        "\n",
        "    # Replace classifier, ensure input and output sizes match\n",
        "    classifier_input_size = model.classifier.in_features\n",
        "    classifier_output_size = 102\n",
        "    \n",
        "    classifier = nn.Sequential(OrderedDict([\n",
        "        ('fc1', nn.Linear(classifier_input_size, hidden_units)),\n",
        "        ('relu', nn.ReLU()),\n",
        "        ('fc2', nn.Linear(hidden_units, classifier_output_size)),\n",
        "        ('output', nn.LogSoftmax(dim=1))\n",
        "    ]))\n",
        "\n",
        "    model.classifier = classifier\n",
        "\n",
        "    return model"
      ],
      "execution_count": 0,
      "outputs": []
    },
    {
      "metadata": {
        "id": "13Az2zr-4QwX",
        "colab_type": "code",
        "colab": {}
      },
      "cell_type": "code",
      "source": [
        "def create_model(learning_rate, hidden_units, class_to_idx):\n",
        "    ''' Create a deep learning model from existing PyTorch model.\n",
        "    '''\n",
        "    # Load pre-trained model\n",
        "    model = get_densenet_model(hidden_units)\n",
        "\n",
        "    # Set training parameters\n",
        "    parameters = filter(lambda p: p.requires_grad, model.parameters())\n",
        "    optimizer = optim.Adam(parameters, lr=learning_rate)\n",
        "    criterion = nn.NLLLoss()\n",
        "\n",
        "    # Save class to index mapping\n",
        "    model.class_to_idx = class_to_idx\n",
        "\n",
        "    return model, optimizer, criterion"
      ],
      "execution_count": 0,
      "outputs": []
    },
    {
      "metadata": {
        "id": "Ai9VKI0-4YUF",
        "colab_type": "code",
        "colab": {
          "base_uri": "https://localhost:8080/",
          "height": 72
        },
        "outputId": "62ce92e2-5f8a-4147-f2da-a34586c26096"
      },
      "cell_type": "code",
      "source": [
        "# Get class to index mapping\n",
        "class_to_idx = image_datasets['train'].class_to_idx\n",
        "\n",
        "# Load pretrained model\n",
        "hidden_units = 512\n",
        "learning_rate = 0.001\n",
        "model, optimizer, criterion = create_model(learning_rate, hidden_units, class_to_idx)"
      ],
      "execution_count": 16,
      "outputs": [
        {
          "output_type": "stream",
          "text": [
            "/usr/local/lib/python3.6/dist-packages/torchvision/models/densenet.py:212: UserWarning: nn.init.kaiming_normal is now deprecated in favor of nn.init.kaiming_normal_.\n",
            "  nn.init.kaiming_normal(m.weight.data)\n"
          ],
          "name": "stderr"
        }
      ]
    },
    {
      "metadata": {
        "id": "IMN_hFN74ia6",
        "colab_type": "code",
        "colab": {}
      },
      "cell_type": "code",
      "source": [
        "# Move tensors to GPU if available\n",
        "if use_gpu:\n",
        "    model.cuda()\n",
        "    criterion.cuda()"
      ],
      "execution_count": 0,
      "outputs": []
    },
    {
      "metadata": {
        "id": "xzEgUYZX4mET",
        "colab_type": "code",
        "colab": {}
      },
      "cell_type": "code",
      "source": [
        "def validate_model(model, criterion, data_loader):\n",
        "    # Put model in inference mode\n",
        "    model.eval()\n",
        "\n",
        "    accuracy = 0\n",
        "    test_loss = 0\n",
        "    for inputs, labels in iter(data_loader):\n",
        "\n",
        "        if use_gpu:\n",
        "            inputs = Variable(inputs.float().cuda())\n",
        "            labels = Variable(labels.long().cuda()) \n",
        "        else:\n",
        "            inputs = Variable(inputs)\n",
        "            labels = Variable(labels)\n",
        "\n",
        "        output = model.forward(inputs)\n",
        "        test_loss += criterion(output, labels).data[0]\n",
        "\n",
        "        # Model's output is log-softmax,\n",
        "        # take exponential to get the probabilities\n",
        "        ps = torch.exp(output).data\n",
        "\n",
        "        # Class with highest probability is our predicted class, \n",
        "        equality = (labels.data == ps.max(1)[1])\n",
        "\n",
        "        # Accuracy is number of correct predictions divided by all predictions, just take the mean\n",
        "        accuracy += equality.type_as(torch.FloatTensor()).mean()\n",
        "        \n",
        "    return test_loss/len(data_loader), accuracy/len(data_loader)"
      ],
      "execution_count": 0,
      "outputs": []
    },
    {
      "metadata": {
        "id": "L70UIkaX44Qe",
        "colab_type": "code",
        "colab": {}
      },
      "cell_type": "code",
      "source": [
        "def train_model(model, criterion, optimizer, epochs, training_data_loader, validation_data_loader):\n",
        "    # Ensure model in training mode\n",
        "    model.train()\n",
        "\n",
        "    # Train the network using training data\n",
        "    print_every = 40\n",
        "    steps = 0\n",
        "\n",
        "    for epoch in range(epochs):\n",
        "        running_loss = 0\n",
        "\n",
        "        # Get inputs and labels from training set\n",
        "        for inputs, labels in iter(training_data_loader):\n",
        "            steps += 1\n",
        "\n",
        "            # Move tensors to GPU if available\n",
        "            if use_gpu:\n",
        "                inputs = Variable(inputs.float().cuda())\n",
        "                labels = Variable(labels.long().cuda()) \n",
        "            else:\n",
        "                inputs = Variable(inputs)\n",
        "                labels = Variable(labels) \n",
        "\n",
        "            # Set gradients to zero\n",
        "            optimizer.zero_grad()\n",
        "\n",
        "            # Forward pass to calculate logits\n",
        "            output = model.forward(inputs)\n",
        "            \n",
        "            # Calculate loss (how far is prediction from label)\n",
        "            loss = criterion(output, labels)\n",
        "\n",
        "            # Backward pass to calculate gradients\n",
        "            loss.backward()\n",
        "\n",
        "            # Update weights using optimizer (add gradients to weights)\n",
        "            optimizer.step()\n",
        "\n",
        "            # Track the loss as we are training the network\n",
        "            running_loss += loss.data[0]\n",
        "\n",
        "            if steps % print_every == 0:\n",
        "                validation_loss, accuracy = validate_model(model, criterion, validation_data_loader)\n",
        "\n",
        "                print(\"Epoch: {}/{} \".format(epoch+1, epochs),\n",
        "                        \"Training Loss: {:.3f} \".format(running_loss/print_every),\n",
        "                        \"Validation Loss: {:.3f} \".format(validation_loss),\n",
        "                        \"Validation Accuracy: {:.3f}\".format(accuracy))\n",
        "\n",
        "                running_loss = 0\n",
        "\n",
        "                # Put model back in training mode\n",
        "                model.train()"
      ],
      "execution_count": 0,
      "outputs": []
    },
    {
      "metadata": {
        "id": "xCU3l5fb5Dfl",
        "colab_type": "code",
        "colab": {
          "base_uri": "https://localhost:8080/",
          "height": 505
        },
        "outputId": "1e09be02-8f6b-42de-8835-c6f54673dcb2"
      },
      "cell_type": "code",
      "source": [
        "# Train the network using traning data\n",
        "total_epochs = 10\n",
        "train_model(model, criterion, optimizer, total_epochs, dataloaders['train'], dataloaders['valid'])"
      ],
      "execution_count": 20,
      "outputs": [
        {
          "output_type": "stream",
          "text": [
            "/usr/local/lib/python3.6/dist-packages/ipykernel_launcher.py:40: UserWarning: invalid index of a 0-dim tensor. This will be an error in PyTorch 0.5. Use tensor.item() to convert a 0-dim tensor to a Python number\n",
            "/usr/local/lib/python3.6/dist-packages/ipykernel_launcher.py:18: UserWarning: invalid index of a 0-dim tensor. This will be an error in PyTorch 0.5. Use tensor.item() to convert a 0-dim tensor to a Python number\n"
          ],
          "name": "stderr"
        },
        {
          "output_type": "stream",
          "text": [
            "Epoch: 1/10  Training Loss: 3.979  Validation Loss: 2.968  Validation Accuracy: 0.419\n",
            "Epoch: 1/10  Training Loss: 2.501  Validation Loss: 1.619  Validation Accuracy: 0.655\n",
            "Epoch: 2/10  Training Loss: 0.586  Validation Loss: 0.993  Validation Accuracy: 0.785\n",
            "Epoch: 2/10  Training Loss: 1.179  Validation Loss: 0.728  Validation Accuracy: 0.845\n",
            "Epoch: 2/10  Training Loss: 0.954  Validation Loss: 0.592  Validation Accuracy: 0.863\n",
            "Epoch: 3/10  Training Loss: 0.648  Validation Loss: 0.486  Validation Accuracy: 0.882\n",
            "Epoch: 3/10  Training Loss: 0.716  Validation Loss: 0.420  Validation Accuracy: 0.903\n",
            "Epoch: 4/10  Training Loss: 0.184  Validation Loss: 0.400  Validation Accuracy: 0.902\n",
            "Epoch: 4/10  Training Loss: 0.615  Validation Loss: 0.350  Validation Accuracy: 0.913\n",
            "Epoch: 4/10  Training Loss: 0.610  Validation Loss: 0.337  Validation Accuracy: 0.922\n",
            "Epoch: 5/10  Training Loss: 0.387  Validation Loss: 0.329  Validation Accuracy: 0.907\n",
            "Epoch: 5/10  Training Loss: 0.521  Validation Loss: 0.307  Validation Accuracy: 0.923\n",
            "Epoch: 6/10  Training Loss: 0.065  Validation Loss: 0.302  Validation Accuracy: 0.930\n",
            "Epoch: 6/10  Training Loss: 0.467  Validation Loss: 0.274  Validation Accuracy: 0.932\n",
            "Epoch: 6/10  Training Loss: 0.461  Validation Loss: 0.305  Validation Accuracy: 0.921\n",
            "Epoch: 7/10  Training Loss: 0.236  Validation Loss: 0.250  Validation Accuracy: 0.937\n",
            "Epoch: 7/10  Training Loss: 0.451  Validation Loss: 0.237  Validation Accuracy: 0.932\n",
            "Epoch: 7/10  Training Loss: 0.423  Validation Loss: 0.233  Validation Accuracy: 0.935\n",
            "Epoch: 8/10  Training Loss: 0.423  Validation Loss: 0.239  Validation Accuracy: 0.943\n",
            "Epoch: 8/10  Training Loss: 0.395  Validation Loss: 0.235  Validation Accuracy: 0.933\n",
            "Epoch: 9/10  Training Loss: 0.153  Validation Loss: 0.256  Validation Accuracy: 0.931\n",
            "Epoch: 9/10  Training Loss: 0.383  Validation Loss: 0.246  Validation Accuracy: 0.931\n",
            "Epoch: 9/10  Training Loss: 0.390  Validation Loss: 0.233  Validation Accuracy: 0.945\n",
            "Epoch: 10/10  Training Loss: 0.307  Validation Loss: 0.227  Validation Accuracy: 0.937\n",
            "Epoch: 10/10  Training Loss: 0.362  Validation Loss: 0.228  Validation Accuracy: 0.944\n"
          ],
          "name": "stdout"
        }
      ]
    },
    {
      "metadata": {
        "id": "8F1eMte_5EcB",
        "colab_type": "code",
        "colab": {
          "base_uri": "https://localhost:8080/",
          "height": 72
        },
        "outputId": "252047dc-c294-4992-9f1d-1a92aa16b54a"
      },
      "cell_type": "code",
      "source": [
        "# Do validation on the test set\n",
        "test_loss, accuracy = validate_model(model, criterion, dataloaders['test'])\n",
        "print(\"Validation Accuracy: {:.3f}\".format(accuracy))"
      ],
      "execution_count": 21,
      "outputs": [
        {
          "output_type": "stream",
          "text": [
            "/usr/local/lib/python3.6/dist-packages/ipykernel_launcher.py:18: UserWarning: invalid index of a 0-dim tensor. This will be an error in PyTorch 0.5. Use tensor.item() to convert a 0-dim tensor to a Python number\n"
          ],
          "name": "stderr"
        },
        {
          "output_type": "stream",
          "text": [
            "Validation Accuracy: 0.919\n"
          ],
          "name": "stdout"
        }
      ]
    },
    {
      "metadata": {
        "id": "2BncbYS25lsm",
        "colab_type": "code",
        "colab": {}
      },
      "cell_type": "code",
      "source": [
        "# Save the checkpoint \n",
        "checkpoint_path = 'densenet121_checkpoint.pth'\n",
        "state = {\n",
        "    'arch': 'densenet121',\n",
        "    'learning_rate': learning_rate,\n",
        "    'hidden_units': hidden_units,\n",
        "    'epochs': total_epochs,\n",
        "    'state_dict': model.state_dict(),\n",
        "    'optimizer' : optimizer.state_dict(),\n",
        "    'class_to_idx' : model.class_to_idx\n",
        "}\n",
        "torch.save(state, checkpoint_path)"
      ],
      "execution_count": 0,
      "outputs": []
    }
  ]
}